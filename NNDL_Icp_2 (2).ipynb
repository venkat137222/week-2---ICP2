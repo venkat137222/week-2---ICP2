{
  "nbformat": 4,
  "nbformat_minor": 0,
  "metadata": {
    "colab": {
      "provenance": []
    },
    "kernelspec": {
      "name": "python3",
      "display_name": "Python 3"
    },
    "language_info": {
      "name": "python"
    }
  },
  "cells": [
    {
      "cell_type": "code",
      "source": [
        "class Employee:\n",
        "    employees_count = 0\n",
        "\n",
        "    def __init__(self, name, family, salary, department):\n",
        "        self.name = name\n",
        "        self.family = family\n",
        "        self.salary = salary\n",
        "        self.department = department\n",
        "        Employee.employees_count += 1\n",
        "\n",
        "    @classmethod\n",
        "    def avg_salary(cls, employees):\n",
        "        total_sal = sum(employee.salary for employee in employees)\n",
        "        if len(employees) > 0:\n",
        "          return total_sal / len(employees)\n",
        "        else:\n",
        "          return 0\n",
        "\n",
        "class FulltimeEmployee(Employee):\n",
        "    def __init__(self, name, family, salary, department):\n",
        "        super().__init__(name, family, salary, department)\n",
        "\n",
        "employee1 = Employee(\"srinivas\", \"musinuri\", 50000, \"HR\")\n",
        "employee2 = Employee(\"raj\", \"singh\", 60000, \"Finance\")\n",
        "employee3 = Employee(\"zakir\", \"khan\", 55000, \"IT\")\n",
        "\n",
        "fulltime_employee1 = FulltimeEmployee(\"Rakesh\", \"prana\", 70000, \"Marketing\")\n",
        "fulltime_employee2 = FulltimeEmployee(\"iqbal\", \"hussain\", 75000, \"Sales\")\n",
        "\n",
        "employees = [employee1, employee2, employee3, fulltime_employee1, fulltime_employee2]\n",
        "avg_salary = Employee.avg_salary(employees)\n",
        "\n",
        "print(f\"Employees Count: {Employee.employees_count}\")\n",
        "print(f\"Average salary: ${avg_salary:.2f}\")\n",
        ""
      ],
      "metadata": {
        "colab": {
          "base_uri": "https://localhost:8080/"
        },
        "id": "FBxFBSQjH1Un",
        "outputId": "1a39e52d-83d0-474f-8450-d4fd49cfec23"
      },
      "execution_count": 22,
      "outputs": [
        {
          "output_type": "stream",
          "name": "stdout",
          "text": [
            "Employees Count: 5\n",
            "Average salary: $62000.00\n"
          ]
        }
      ]
    },
    {
      "cell_type": "code",
      "source": [
        "# 2. Numpy\n",
        "   # Using NumPy create random vector of size 20 having only float in the range 1-20.\n",
        "   # Then reshape the array to 4 by 5\n",
        "   # Then replace the max in each row by 0 (axis=1)\n",
        "   # (you can NOT implement it via for loop)\n",
        ""
      ],
      "metadata": {
        "id": "wgP1HSASIZo8"
      },
      "execution_count": 23,
      "outputs": []
    },
    {
      "cell_type": "code",
      "source": [
        "import numpy as np\n",
        "\n",
        "# Creating a random vector here\n",
        "random_vector = np.random.uniform(1, 20, 20)\n",
        "print(random_vector)"
      ],
      "metadata": {
        "colab": {
          "base_uri": "https://localhost:8080/"
        },
        "id": "eYKc61mUIfE9",
        "outputId": "9dc3f4c1-997a-4278-9874-a980f0081e0e"
      },
      "execution_count": 24,
      "outputs": [
        {
          "output_type": "stream",
          "name": "stdout",
          "text": [
            "[15.99806589 15.27295064  4.74027832  8.98270639 12.9471136   8.32194484\n",
            " 13.73472918 11.49950801 10.88292411  5.7117342  11.8335389  17.26917611\n",
            "  5.06262639 17.40646571 16.02543541 10.75579698  6.1454014  17.43614511\n",
            "  9.54048354 14.15510697]\n"
          ]
        }
      ]
    },
    {
      "cell_type": "code",
      "source": [
        "# Reshaping the generated array to 4 by 5\n",
        "reshape_array = random_vector.reshape(4, 5)\n",
        "print(reshape_array)"
      ],
      "metadata": {
        "colab": {
          "base_uri": "https://localhost:8080/"
        },
        "id": "2UzHNT9_Ilfa",
        "outputId": "809aa322-15fb-42f9-cf0a-ada52d54ea0c"
      },
      "execution_count": 25,
      "outputs": [
        {
          "output_type": "stream",
          "name": "stdout",
          "text": [
            "[[15.99806589 15.27295064  4.74027832  8.98270639 12.9471136 ]\n",
            " [ 8.32194484 13.73472918 11.49950801 10.88292411  5.7117342 ]\n",
            " [11.8335389  17.26917611  5.06262639 17.40646571 16.02543541]\n",
            " [10.75579698  6.1454014  17.43614511  9.54048354 14.15510697]]\n"
          ]
        }
      ]
    },
    {
      "cell_type": "code",
      "source": [
        "# Insteading of looping, we are getting the indices of the maximum values in each row of array\n",
        "\n",
        "indices_position = np.argmax(reshape_array, axis=1)\n",
        "print(indices_position)"
      ],
      "metadata": {
        "colab": {
          "base_uri": "https://localhost:8080/"
        },
        "id": "PwWzWNDnIpXG",
        "outputId": "9181354f-d72c-4844-b60d-579edecb9eea"
      },
      "execution_count": 26,
      "outputs": [
        {
          "output_type": "stream",
          "name": "stdout",
          "text": [
            "[0 1 3 2]\n"
          ]
        }
      ]
    },
    {
      "cell_type": "code",
      "source": [
        "# Replace the maximum values with 0\n",
        "# Using np.arrange function, we are generating an array of values from 0 to 3\n",
        "# Using advanced indexing, here we are combing the postion indices and our newly generated indices and assigning 0:\n",
        "\n",
        "reshape_array[np.arange(4), indices_position] = 0\n",
        "\n",
        "print(reshape_array)"
      ],
      "metadata": {
        "colab": {
          "base_uri": "https://localhost:8080/"
        },
        "id": "VdlqT6gNItZc",
        "outputId": "c22e220e-d61d-4a9f-b2a1-d5dba715690c"
      },
      "execution_count": 27,
      "outputs": [
        {
          "output_type": "stream",
          "name": "stdout",
          "text": [
            "[[ 0.         15.27295064  4.74027832  8.98270639 12.9471136 ]\n",
            " [ 8.32194484  0.         11.49950801 10.88292411  5.7117342 ]\n",
            " [11.8335389  17.26917611  5.06262639  0.         16.02543541]\n",
            " [10.75579698  6.1454014   0.          9.54048354 14.15510697]]\n"
          ]
        }
      ]
    }
  ]
}